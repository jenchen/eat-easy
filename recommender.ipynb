{
 "cells": [
  {
   "cell_type": "code",
   "execution_count": 474,
   "metadata": {
    "collapsed": true
   },
   "outputs": [],
   "source": [
    "import sklearn\n",
    "# Import all of the scikit learn stuff\n",
    "from __future__ import print_function\n",
    "import pandas as pd\n",
    "import warnings\n",
    "# Suppress warnings from pandas library\n",
    "warnings.filterwarnings(\"ignore\", category=DeprecationWarning,\n",
    "module=\"pandas\", lineno=570)\n",
    "import numpy as np"
   ]
  },
  {
   "cell_type": "code",
   "execution_count": 475,
   "metadata": {},
   "outputs": [],
   "source": [
    "# !pip install -U textblob"
   ]
  },
  {
   "cell_type": "code",
   "execution_count": 476,
   "metadata": {},
   "outputs": [],
   "source": [
    "# Import data as csv. Change directory to file location on your computer.\n",
    "data = pd.read_csv(\"review_temp.csv\", \",\" , \";\")"
   ]
  },
  {
   "cell_type": "code",
   "execution_count": 477,
   "metadata": {},
   "outputs": [],
   "source": [
    "menu_db = pd.read_csv(\"data/scraper_data.csv\", \",\")\n",
    "menu_db = menu_db.drop(menu_db.columns[0], axis=1)\n",
    "menu_db = menu_db.dropna(subset=['menu_item'])"
   ]
  },
  {
   "cell_type": "code",
   "execution_count": 478,
   "metadata": {},
   "outputs": [],
   "source": [
    "# Extract bodies column from DataFrame\n",
    "reviews = data.text.values"
   ]
  },
  {
   "cell_type": "code",
   "execution_count": 479,
   "metadata": {},
   "outputs": [
    {
     "data": {
      "text/plain": [
       "description                       NaN\n",
       "id             1cl8ti5S8cJLHGetUe_s6w\n",
       "menu_item                 Canned Soda\n",
       "price                           $1.10\n",
       "rest_name                 Bubba Phatz\n",
       "Name: 0, dtype: object"
      ]
     },
     "execution_count": 479,
     "metadata": {},
     "output_type": "execute_result"
    }
   ],
   "source": [
    "menu_db.iloc[0]"
   ]
  },
  {
   "cell_type": "code",
   "execution_count": 480,
   "metadata": {},
   "outputs": [
    {
     "data": {
      "text/plain": [
       "4546"
      ]
     },
     "execution_count": 480,
     "metadata": {},
     "output_type": "execute_result"
    }
   ],
   "source": [
    "business_list = set(data.business_id.values)\n",
    "len(business_list)"
   ]
  },
  {
   "cell_type": "code",
   "execution_count": 481,
   "metadata": {},
   "outputs": [],
   "source": [
    "scored_list = []"
   ]
  },
  {
   "cell_type": "code",
   "execution_count": 482,
   "metadata": {},
   "outputs": [],
   "source": [
    "def run_recommender():\n",
    "    count = 0\n",
    "    for biz_id in business_list:\n",
    "        menu_list = menu_db.loc[menu_db['id'] == biz_id]\n",
    "        biz_reviews = data.loc[data['business_id'] == biz_id]\n",
    "        for item_name in menu_list.menu_item.values:\n",
    "            item_dict = score_calculator(biz_id, item_name, biz_reviews, 0.5, 0.5)\n",
    "            if item_dict:\n",
    "                scored_list.append(item_dict)"
   ]
  },
  {
   "cell_type": "code",
   "execution_count": 483,
   "metadata": {},
   "outputs": [],
   "source": [
    "def score_calculator(biz_id, item_name, reviews_table, w1, w2):\n",
    "    item_dict = {}\n",
    "    score = 0\n",
    "    for i in range(reviews_table.shape[0]):\n",
    "        review_row = reviews_table.iloc[i]\n",
    "        matches_weight = review_contains_item(item_name, review_row['text'], 1.25)\n",
    "        if matches_weight > 0:\n",
    "            sentiment_score = generate_sentiment(review_row['text'])\n",
    "            star_score = int(review_row['stars'])\n",
    "            score += (sentiment_score*w1 + star_score*w2) * matches_weight\n",
    "\n",
    "    item_dict['id'] = biz_id\n",
    "    item_dict['menu_item'] = item_name\n",
    "    item_dict['rec_rating'] = score\n",
    "    return item_dict"
   ]
  },
  {
   "cell_type": "code",
   "execution_count": 484,
   "metadata": {},
   "outputs": [],
   "source": [
    "def review_contains_item(item_name, review, weight):\n",
    "    if item_name == None:\n",
    "        return -1\n",
    "    if type(item_name) != type(\"hello\"):\n",
    "        return -1\n",
    "    if item_name.lower() in review.lower():\n",
    "        return weight\n",
    "    for word in item_name.split(\" \"):\n",
    "        if word.lower() in review.lower():\n",
    "            return 1\n",
    "    return -1"
   ]
  },
  {
   "cell_type": "code",
   "execution_count": 485,
   "metadata": {
    "collapsed": true
   },
   "outputs": [],
   "source": [
    "from textblob import TextBlob as tb\n",
    "def generate_sentiment(review):\n",
    "    #nltk\n",
    "    review_converted = tb(review)\n",
    "    return 5*review_converted.sentiment.polarity"
   ]
  },
  {
   "cell_type": "code",
   "execution_count": 486,
   "metadata": {
    "scrolled": false
   },
   "outputs": [],
   "source": [
    "run_recommender()"
   ]
  },
  {
   "cell_type": "code",
   "execution_count": 487,
   "metadata": {
    "collapsed": true
   },
   "outputs": [],
   "source": [
    "df = pd.DataFrame(scored_list)"
   ]
  },
  {
   "cell_type": "code",
   "execution_count": 488,
   "metadata": {
    "collapsed": true
   },
   "outputs": [],
   "source": [
    "df.to_csv(\"ranking.csv\", sep = \",\")"
   ]
  },
  {
   "cell_type": "code",
   "execution_count": null,
   "metadata": {
    "collapsed": true
   },
   "outputs": [],
   "source": []
  }
 ],
 "metadata": {
  "kernelspec": {
   "display_name": "Python 3",
   "language": "python",
   "name": "python3"
  },
  "language_info": {
   "codemirror_mode": {
    "name": "ipython",
    "version": 3
   },
   "file_extension": ".py",
   "mimetype": "text/x-python",
   "name": "python",
   "nbconvert_exporter": "python",
   "pygments_lexer": "ipython3",
   "version": "3.6.2"
  }
 },
 "nbformat": 4,
 "nbformat_minor": 2
}
