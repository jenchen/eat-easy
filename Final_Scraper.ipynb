{
 "cells": [
  {
   "cell_type": "code",
   "execution_count": null,
   "metadata": {
    "collapsed": true
   },
   "outputs": [],
   "source": [
    "#import selenium\n",
    "from selenium import webdriver\n",
    "from selenium.webdriver.common.keys import Keys\n",
    "from selenium.webdriver.common.by import By\n",
    "from random import randint\n",
    "from time import sleep\n",
    "from difflib import SequenceMatcher"
   ]
  },
  {
   "cell_type": "code",
   "execution_count": 1,
   "metadata": {
    "collapsed": true
   },
   "outputs": [],
   "source": [
    "import pandas as pd ##"
   ]
  },
  {
   "cell_type": "code",
   "execution_count": null,
   "metadata": {
    "collapsed": true
   },
   "outputs": [],
   "source": []
  },
  {
   "cell_type": "code",
   "execution_count": null,
   "metadata": {
    "collapsed": true
   },
   "outputs": [],
   "source": []
  },
  {
   "cell_type": "code",
   "execution_count": 2,
   "metadata": {
    "collapsed": true
   },
   "outputs": [],
   "source": [
    "phoenix_addresses = pd.read_csv('Phoenix_Addresses.csv')"
   ]
  },
  {
   "cell_type": "code",
   "execution_count": 11,
   "metadata": {},
   "outputs": [
    {
     "data": {
      "text/html": [
       "<div>\n",
       "<style>\n",
       "    .dataframe thead tr:only-child th {\n",
       "        text-align: right;\n",
       "    }\n",
       "\n",
       "    .dataframe thead th {\n",
       "        text-align: left;\n",
       "    }\n",
       "\n",
       "    .dataframe tbody tr th {\n",
       "        vertical-align: top;\n",
       "    }\n",
       "</style>\n",
       "<table border=\"1\" class=\"dataframe\">\n",
       "  <thead>\n",
       "    <tr style=\"text-align: right;\">\n",
       "      <th></th>\n",
       "      <th>name</th>\n",
       "      <th>address</th>\n",
       "      <th>city</th>\n",
       "      <th>state</th>\n",
       "      <th>postal_code</th>\n",
       "    </tr>\n",
       "  </thead>\n",
       "  <tbody>\n",
       "    <tr>\n",
       "      <th>0</th>\n",
       "      <td>Kabab House</td>\n",
       "      <td>3510 E Bell Rd, Ste 3</td>\n",
       "      <td>Phoenix</td>\n",
       "      <td>AZ</td>\n",
       "      <td>85032.0</td>\n",
       "    </tr>\n",
       "    <tr>\n",
       "      <th>1</th>\n",
       "      <td>Matt's Big Breakfast</td>\n",
       "      <td>801 N 1st St</td>\n",
       "      <td>Phoenix</td>\n",
       "      <td>AZ</td>\n",
       "      <td>85004.0</td>\n",
       "    </tr>\n",
       "    <tr>\n",
       "      <th>2</th>\n",
       "      <td>Tea2go</td>\n",
       "      <td>5415 E High St, Ste 103</td>\n",
       "      <td>Phoenix</td>\n",
       "      <td>AZ</td>\n",
       "      <td>85054.0</td>\n",
       "    </tr>\n",
       "    <tr>\n",
       "      <th>3</th>\n",
       "      <td>Dubliner</td>\n",
       "      <td>3841 E Thunderbird Rd, Ste 111</td>\n",
       "      <td>Phoenix</td>\n",
       "      <td>AZ</td>\n",
       "      <td>85032.0</td>\n",
       "    </tr>\n",
       "    <tr>\n",
       "      <th>4</th>\n",
       "      <td>Game Seven Grill</td>\n",
       "      <td>201 S 4th St</td>\n",
       "      <td>Phoenix</td>\n",
       "      <td>AZ</td>\n",
       "      <td>85034.0</td>\n",
       "    </tr>\n",
       "    <tr>\n",
       "      <th>5</th>\n",
       "      <td>Matt's Big Breakfast</td>\n",
       "      <td>3800 E Sky Harbor Blvd, Terminal 4, Gate B5</td>\n",
       "      <td>Phoenix</td>\n",
       "      <td>AZ</td>\n",
       "      <td>85034.0</td>\n",
       "    </tr>\n",
       "    <tr>\n",
       "      <th>6</th>\n",
       "      <td>Taco Bell</td>\n",
       "      <td>3507 W. Peoria Ave.</td>\n",
       "      <td>Phoenix</td>\n",
       "      <td>AZ</td>\n",
       "      <td>85029.0</td>\n",
       "    </tr>\n",
       "    <tr>\n",
       "      <th>7</th>\n",
       "      <td>La Fontanella Restaurant</td>\n",
       "      <td>4231 E Indian School Rd</td>\n",
       "      <td>Phoenix</td>\n",
       "      <td>AZ</td>\n",
       "      <td>85018.0</td>\n",
       "    </tr>\n",
       "    <tr>\n",
       "      <th>8</th>\n",
       "      <td>The Melting Pot</td>\n",
       "      <td>3626 E Ray Rd</td>\n",
       "      <td>Phoenix</td>\n",
       "      <td>AZ</td>\n",
       "      <td>85044.0</td>\n",
       "    </tr>\n",
       "    <tr>\n",
       "      <th>9</th>\n",
       "      <td>Zen 32</td>\n",
       "      <td>3160 E Camelback Rd</td>\n",
       "      <td>Phoenix</td>\n",
       "      <td>AZ</td>\n",
       "      <td>85016.0</td>\n",
       "    </tr>\n",
       "    <tr>\n",
       "      <th>10</th>\n",
       "      <td>Standard Restaurant Supply</td>\n",
       "      <td>2922 E McDowell Rd</td>\n",
       "      <td>Phoenix</td>\n",
       "      <td>AZ</td>\n",
       "      <td>85008.0</td>\n",
       "    </tr>\n",
       "    <tr>\n",
       "      <th>11</th>\n",
       "      <td>Tuck Shop</td>\n",
       "      <td>2245 N 12th St</td>\n",
       "      <td>Phoenix</td>\n",
       "      <td>AZ</td>\n",
       "      <td>85006.0</td>\n",
       "    </tr>\n",
       "    <tr>\n",
       "      <th>12</th>\n",
       "      <td>Mariscos Playa Hermosa</td>\n",
       "      <td>1605 E Garfield St</td>\n",
       "      <td>Phoenix</td>\n",
       "      <td>AZ</td>\n",
       "      <td>85006.0</td>\n",
       "    </tr>\n",
       "    <tr>\n",
       "      <th>13</th>\n",
       "      <td>Taquizas Kabronis</td>\n",
       "      <td>15645 N 35th Ave</td>\n",
       "      <td>Phoenix</td>\n",
       "      <td>AZ</td>\n",
       "      <td>85053.0</td>\n",
       "    </tr>\n",
       "    <tr>\n",
       "      <th>14</th>\n",
       "      <td>Carly's Bistro</td>\n",
       "      <td>128 E Roosevelt St</td>\n",
       "      <td>Phoenix</td>\n",
       "      <td>AZ</td>\n",
       "      <td>85004.0</td>\n",
       "    </tr>\n",
       "    <tr>\n",
       "      <th>15</th>\n",
       "      <td>Circle K</td>\n",
       "      <td>2311 W Deer Valley Rd</td>\n",
       "      <td>Phoenix</td>\n",
       "      <td>AZ</td>\n",
       "      <td>85073.0</td>\n",
       "    </tr>\n",
       "    <tr>\n",
       "      <th>16</th>\n",
       "      <td>The Good Egg - Uptown</td>\n",
       "      <td>50 E Camelback Rd</td>\n",
       "      <td>Phoenix</td>\n",
       "      <td>AZ</td>\n",
       "      <td>85012.0</td>\n",
       "    </tr>\n",
       "    <tr>\n",
       "      <th>17</th>\n",
       "      <td>Matador Restaurant</td>\n",
       "      <td>125 E Adams St</td>\n",
       "      <td>Phoenix</td>\n",
       "      <td>AZ</td>\n",
       "      <td>85004.0</td>\n",
       "    </tr>\n",
       "    <tr>\n",
       "      <th>18</th>\n",
       "      <td>Black Chile Mexican Grill</td>\n",
       "      <td>2502 E Camelback Rd</td>\n",
       "      <td>Phoenix</td>\n",
       "      <td>AZ</td>\n",
       "      <td>85016.0</td>\n",
       "    </tr>\n",
       "    <tr>\n",
       "      <th>19</th>\n",
       "      <td>Cousins Subs</td>\n",
       "      <td>4801 E Washington St, Ste 1</td>\n",
       "      <td>Phoenix</td>\n",
       "      <td>AZ</td>\n",
       "      <td>85034.0</td>\n",
       "    </tr>\n",
       "  </tbody>\n",
       "</table>\n",
       "</div>"
      ],
      "text/plain": [
       "                          name                                      address  \\\n",
       "0                  Kabab House                        3510 E Bell Rd, Ste 3   \n",
       "1         Matt's Big Breakfast                                 801 N 1st St   \n",
       "2                       Tea2go                      5415 E High St, Ste 103   \n",
       "3                     Dubliner               3841 E Thunderbird Rd, Ste 111   \n",
       "4             Game Seven Grill                                 201 S 4th St   \n",
       "5         Matt's Big Breakfast  3800 E Sky Harbor Blvd, Terminal 4, Gate B5   \n",
       "6                    Taco Bell                          3507 W. Peoria Ave.   \n",
       "7     La Fontanella Restaurant                      4231 E Indian School Rd   \n",
       "8              The Melting Pot                                3626 E Ray Rd   \n",
       "9                       Zen 32                          3160 E Camelback Rd   \n",
       "10  Standard Restaurant Supply                           2922 E McDowell Rd   \n",
       "11                   Tuck Shop                               2245 N 12th St   \n",
       "12      Mariscos Playa Hermosa                           1605 E Garfield St   \n",
       "13           Taquizas Kabronis                             15645 N 35th Ave   \n",
       "14              Carly's Bistro                           128 E Roosevelt St   \n",
       "15                    Circle K                        2311 W Deer Valley Rd   \n",
       "16       The Good Egg - Uptown                            50 E Camelback Rd   \n",
       "17          Matador Restaurant                               125 E Adams St   \n",
       "18   Black Chile Mexican Grill                          2502 E Camelback Rd   \n",
       "19                Cousins Subs                  4801 E Washington St, Ste 1   \n",
       "\n",
       "       city state  postal_code  \n",
       "0   Phoenix    AZ      85032.0  \n",
       "1   Phoenix    AZ      85004.0  \n",
       "2   Phoenix    AZ      85054.0  \n",
       "3   Phoenix    AZ      85032.0  \n",
       "4   Phoenix    AZ      85034.0  \n",
       "5   Phoenix    AZ      85034.0  \n",
       "6   Phoenix    AZ      85029.0  \n",
       "7   Phoenix    AZ      85018.0  \n",
       "8   Phoenix    AZ      85044.0  \n",
       "9   Phoenix    AZ      85016.0  \n",
       "10  Phoenix    AZ      85008.0  \n",
       "11  Phoenix    AZ      85006.0  \n",
       "12  Phoenix    AZ      85006.0  \n",
       "13  Phoenix    AZ      85053.0  \n",
       "14  Phoenix    AZ      85004.0  \n",
       "15  Phoenix    AZ      85073.0  \n",
       "16  Phoenix    AZ      85012.0  \n",
       "17  Phoenix    AZ      85004.0  \n",
       "18  Phoenix    AZ      85016.0  \n",
       "19  Phoenix    AZ      85034.0  "
      ]
     },
     "execution_count": 11,
     "metadata": {},
     "output_type": "execute_result"
    }
   ],
   "source": [
    "phoenix_addresses.head(20)"
   ]
  },
  {
   "cell_type": "code",
   "execution_count": 13,
   "metadata": {},
   "outputs": [
    {
     "data": {
      "text/plain": [
       "'3510 E Bell Rd'"
      ]
     },
     "execution_count": 13,
     "metadata": {},
     "output_type": "execute_result"
    }
   ],
   "source": [
    "phoenix_addresses['address'][0].split(',')[0] #address"
   ]
  },
  {
   "cell_type": "code",
   "execution_count": 16,
   "metadata": {},
   "outputs": [
    {
     "data": {
      "text/plain": [
       "'Phoenix'"
      ]
     },
     "execution_count": 16,
     "metadata": {},
     "output_type": "execute_result"
    }
   ],
   "source": [
    "phoenix_addresses['city'][0] #city"
   ]
  },
  {
   "cell_type": "code",
   "execution_count": 17,
   "metadata": {},
   "outputs": [
    {
     "data": {
      "text/plain": [
       "'AZ'"
      ]
     },
     "execution_count": 17,
     "metadata": {},
     "output_type": "execute_result"
    }
   ],
   "source": [
    "phoenix_addresses['state'][0] #state"
   ]
  },
  {
   "cell_type": "markdown",
   "metadata": {},
   "source": [
    "### Set params for scraper"
   ]
  },
  {
   "cell_type": "code",
   "execution_count": null,
   "metadata": {
    "collapsed": true
   },
   "outputs": [],
   "source": [
    "self.site = 'https://www.allmenus.com'\n",
    "self.wait_time = 5 #60\n",
    "self.restuarant_name = restuarant_name ##\n",
    "self.restuarant_addr = restuarant_addr ##\n",
    "self.sleep_min = 0 #3\n",
    "self.sleep_max = 1 #7"
   ]
  },
  {
   "cell_type": "markdown",
   "metadata": {},
   "source": [
    "### Start Browser"
   ]
  },
  {
   "cell_type": "code",
   "execution_count": 27,
   "metadata": {},
   "outputs": [
    {
     "ename": "IndentationError",
     "evalue": "unexpected indent (<ipython-input-27-e7523d387689>, line 2)",
     "output_type": "error",
     "traceback": [
      "\u001b[0;36m  File \u001b[0;32m\"<ipython-input-27-e7523d387689>\"\u001b[0;36m, line \u001b[0;32m2\u001b[0m\n\u001b[0;31m    self.browser.implicitly_wait(self.wait_time)\u001b[0m\n\u001b[0m    ^\u001b[0m\n\u001b[0;31mIndentationError\u001b[0m\u001b[0;31m:\u001b[0m unexpected indent\n"
     ]
    }
   ],
   "source": [
    "self.browser = webdriver.PhantomJS()\n",
    "self.browser.implicitly_wait(self.wait_time)\n",
    "self.browser.get(self.site)"
   ]
  },
  {
   "cell_type": "markdown",
   "metadata": {},
   "source": [
    "### Search Restuarant"
   ]
  },
  {
   "cell_type": "code",
   "execution_count": null,
   "metadata": {
    "collapsed": true
   },
   "outputs": [],
   "source": [
    "def searchRestuarant(self):\n",
    "    print(\">>>>>>>>>>\")\n",
    "    print('Searching for desired restuarant...')\n",
    "    #check_box = self.browser.find_element(By.CSS_SELECTOR, \"div.s-checkbox-group.only-online-experiment-checkbox span.s-checkbox-filler\")\n",
    "    check_box = self.browser.find_element(By.CSS_SELECTOR, \"input#online-ordering-checkbox.s-checkbox-input\")\n",
    "    print(\"CHECK_BOX VALUE (should be 'online-ordering'): \", check_box.get_attribute('value'))\n",
    "    check_box.click()\n",
    "\n",
    "    ##if check_box.is_selected():\n",
    "    #check_box.click()\n",
    "    ##search_field = self.browser.find_element(By.CSS_SELECTOR, 'form#am-search-form-desktop input#header-get-address')\n",
    "    ##print(\"SEARCH_FIELD: \", search_field.get_attribute('placeholder'))\n",
    "    search_field = self.browser.find_element(By.ID, 'get-address')\n",
    "    search_field.clear()\n",
    "    search_field.send_keys(self.restuarant_addr)\n",
    "    print('Sleeping...')\n",
    "    sleep(randint(self.sleep_min, self.sleep_max))\n",
    "    search_field.send_keys(Keys.RETURN)\n",
    "    ##self.browser.find_element(By.CSS_SELECTOR, 'input.s-btn.s-button-primary').click() #submit button\n",
    "    print('Sleeping...')\n",
    "    sleep(randint(self.sleep_min, self.sleep_max))"
   ]
  },
  {
   "cell_type": "markdown",
   "metadata": {},
   "source": [
    "### Select Restuarants From Results"
   ]
  },
  {
   "cell_type": "code",
   "execution_count": 29,
   "metadata": {
    "collapsed": true
   },
   "outputs": [],
   "source": [
    "def selectRestaurantFromResults(self):\n",
    "\t\tprint('Selecting desired restuarant from search results...')\n",
    "\t\t\"\"\"\n",
    "\t\tlst_results = self.browser.find_elements(By.CSS_SELECTOR, 'h4.name')\n",
    "\t\trestuarant = None\n",
    "\t\tfor result in lst_results:\n",
    "\t\t\tprint('RESULT')\n",
    "\t\t\tprint(result)\n",
    "\t\t\tprint('INNER_HTML')\n",
    "\t\t\tprint(result.get_attribute('inner-html'))\n",
    "\t\t\tif not isinstance(result, type(None)): #and (result.get_attribute('inner-html').lower() == self.restuarant_name.lower()):\n",
    "\t\t\t\t#how modify so just if similar enough\n",
    "\t\t\t\tif result.get_attribute('inner-html') and (self.similar(result.get_attribute('inner-html').lower(), self.restuarant_name.lower()) > 0.8):\n",
    "\t\t\t\t\trestuarant = result\n",
    "\t\t\t\t\tbreak\n",
    "\t\t\"\"\"\n",
    "\t\tnum_results_found = self.browser.find_element(By.CSS_SELECTOR, 'h1')\n",
    "\t\tnum_results_found = num_results_found.text.split()[0] #get_attribute('inner-html')\n",
    "\t\tprint(str(num_results_found) + \" NUMBER OF RESULTS FOUND\")\n",
    "\n",
    "\t\tif int(num_results_found) > 0:\n",
    "\n",
    "\t\t\tlst_results = self.browser.find_elements(By.CSS_SELECTOR, 'h4.name a')\n",
    "\t\t\trestuarant_href = None\n",
    "\t\t\tfor result in lst_results:\n",
    "\t\t\t\tprint('RESULT')\n",
    "\t\t\t\tprint(result)\n",
    "\t\t\t\tprint('href')\n",
    "\t\t\t\tprint(result.get_attribute('href'))\n",
    "\t\t\t\tif not isinstance(result, type(None)): #and (result.get_attribute('inner-html').lower() == self.restuarant_name.lower()):\n",
    "\t\t\t\t\t#how modify so just if similar enough\n",
    "\t\t\t\t\tpossible_href = result.get_attribute('href')\n",
    "\t\t\t\t\tif possible_href and self.restuarant_name.lower().replace(' ', '-').replace(\"'\", \"-\") in possible_href:\n",
    "\t\t\t\t\t\trestuarant_href = possible_href\n",
    "\t\t\t\t\t\tbreak\n",
    "\t\t\t\n",
    "\t\t\tprint('Sleeping...')\n",
    "\t\t\tsleep(randint(self.sleep_min, self.sleep_max))\n",
    "\t\t\t#restuarant.click() #\n",
    "\t\t\tself.browser.get(restuarant_href)\n",
    "\n",
    "\n",
    "\t\t##select actual restuarant\n",
    "\t\t#get everything by css selector: h4.name a where href=\"/ca/berkeley/309673-house-of-curries/menu/\"\n",
    "\t\t\t#OR can try inner-html == restuarant_name (House Of Curries)\n",
    "\t\t#then click\n",
    "\t\t#sleep"
   ]
  },
  {
   "cell_type": "code",
   "execution_count": null,
   "metadata": {
    "collapsed": true
   },
   "outputs": [],
   "source": [
    "\tdef similar(self, a, b):\n",
    "\t\treturn SequenceMatcher(None, a, b).ratio()"
   ]
  },
  {
   "cell_type": "code",
   "execution_count": 30,
   "metadata": {
    "collapsed": true
   },
   "outputs": [],
   "source": [
    "\tdef pairMenuItemsAndDescriptions(self):\n",
    "\t\tprint('Pairing menu items with their corresponding descriptions')\n",
    "\t\tmenu_items = []\n",
    "\t\tresulting_menu_items = self.browser.find_elements(By.CLASS_NAME, 'item-title')\n",
    "\t\titem_descriptions = []\n",
    "\t\tresulting_item_descriptions = self.browser.find_elements(By.CSS_SELECTOR, 'p.description')\n",
    "\t\tfor i in range(len(resulting_menu_items)): #assert same length\n",
    "\t\t\t#not work: inner-html, text\n",
    "\t\t\tmenu_items.append(resulting_menu_items[i].text)#.get_attribute('value'))\n",
    "\t\t\titem_descriptions.append(resulting_item_descriptions[i].text) #.get_attribute('value'))\n",
    "\t\treturn zip(menu_items, item_descriptions)\n",
    "\n",
    "\t\t#select menu items by css selector (class): item-title\n",
    "\t\t#select menu item description by css selector: p.description\n",
    "\t\t#zip the two lists together into a dict and RETURN list of tuples"
   ]
  },
  {
   "cell_type": "code",
   "execution_count": null,
   "metadata": {
    "collapsed": true
   },
   "outputs": [],
   "source": [
    "\tdef closeBrowser(self):\n",
    "\t\tif self.browser:\n",
    "\t\t\tself.browser.quit()"
   ]
  },
  {
   "cell_type": "code",
   "execution_count": null,
   "metadata": {
    "collapsed": true
   },
   "outputs": [],
   "source": []
  },
  {
   "cell_type": "code",
   "execution_count": null,
   "metadata": {
    "collapsed": true
   },
   "outputs": [],
   "source": []
  },
  {
   "cell_type": "code",
   "execution_count": null,
   "metadata": {
    "collapsed": true
   },
   "outputs": [],
   "source": []
  },
  {
   "cell_type": "markdown",
   "metadata": {},
   "source": [
    "### Print Output"
   ]
  },
  {
   "cell_type": "code",
   "execution_count": null,
   "metadata": {
    "collapsed": true
   },
   "outputs": [],
   "source": [
    "print(restuarant_name)\n",
    "print(restuarant_addr)\n",
    "count = 0\n",
    "for item, description in menu:\n",
    "\tprint(item)\n",
    "\tprint(description)\n",
    "\tcount += 1\n",
    "print(count)"
   ]
  },
  {
   "cell_type": "code",
   "execution_count": null,
   "metadata": {
    "collapsed": true
   },
   "outputs": [],
   "source": [
    "restuarant_name = \"Matt's Big Breakfast\" #'House of Curries'\n",
    "restuarant_addr = \"801 N 1st St, Phoenix, AZ\" #'2520 Durant Ave, Berkeley, CA, 94704'\n",
    "scraper = Scraper(restuarant_name, restuarant_addr)\n",
    "scraper.startBrowser()\n",
    "scraper.searchRestuarant()\n",
    "scraper.selectRestaurantFromResults()\n",
    "menu = scraper.pairMenuItemsAndDescriptions()\n",
    "scraper.closeBrowser()"
   ]
  }
 ],
 "metadata": {
  "kernelspec": {
   "display_name": "Python 3",
   "language": "python",
   "name": "python3"
  },
  "language_info": {
   "codemirror_mode": {
    "name": "ipython",
    "version": 3
   },
   "file_extension": ".py",
   "mimetype": "text/x-python",
   "name": "python",
   "nbconvert_exporter": "python",
   "pygments_lexer": "ipython3",
   "version": "3.6.1"
  }
 },
 "nbformat": 4,
 "nbformat_minor": 2
}
